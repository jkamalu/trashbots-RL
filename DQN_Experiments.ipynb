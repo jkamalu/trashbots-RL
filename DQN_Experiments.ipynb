{
 "cells": [
  {
   "cell_type": "code",
   "execution_count": null,
   "metadata": {},
   "outputs": [],
   "source": [
    "%matplotlib inline\n",
    "import copy\n",
    "import importlib\n",
    "\n",
    "import numpy as np\n",
    "import matplotlib.pyplot as plt\n",
    "\n",
    "import keras.backend as K\n",
    "from keras import Sequential, Model\n",
    "from keras.layers import Input, Dense, Conv2D, MaxPooling2D, Dropout, Flatten\n",
    "\n",
    "\n",
    "from Heatmap import Heatmap\n",
    "from Environment import Environment\n",
    "from GaussianTrashSource import GaussianTrashSource"
   ]
  },
  {
   "cell_type": "markdown",
   "metadata": {},
   "source": [
    "## Parameters"
   ]
  },
  {
   "cell_type": "code",
   "execution_count": null,
   "metadata": {},
   "outputs": [],
   "source": [
    "class config:\n",
    "    \n",
    "    # General\n",
    "    n_agents = 4\n",
    "    number_print = 100\n",
    "\n",
    "    # Model\n",
    "\n",
    "    time_steps = 3\n",
    "    grid_size_w = 10\n",
    "    grid_size_h = 10\n",
    "    n_actions = 5\n",
    "    n_channels = time_steps + time_steps + 1\n",
    "    \n",
    "    trash_source_1 = GaussianTrashSource(mean=[2, 3], \n",
    "                                         max_y=grid_size_h - 1, \n",
    "                                         max_x=grid_size_w - 1, \n",
    "                                         cov=[[0, 0], [0, 0]])\n",
    "    trash_source_2 = GaussianTrashSource(mean=[1, 6],\n",
    "                                         max_y=grid_size_h - 1,\n",
    "                                         max_x=grid_size_w - 1,\n",
    "                                         cov=[[0, 0], [0, 0]])\n",
    "    trash_source_3 = GaussianTrashSource(mean=[5, 1],\n",
    "                                         max_y=grid_size_h - 1,\n",
    "                                         max_x=grid_size_w - 1,\n",
    "                                         cov=[[0, 0], [0, 0]])\n",
    "    trash_source_4 = GaussianTrashSource(mean=[5, 5],\n",
    "                                         max_y=grid_size_h - 1,\n",
    "                                         max_x=grid_size_w - 1,\n",
    "                                         cov=[[0, 0], [0, 0]])\n",
    "\n",
    "    # Q-Learning\n",
    "\n",
    "    n_episodes = 1\n",
    "    n_steps = 10000\n",
    "    epsilon = 0.75\n",
    "    epsilon_decay = 1 - 1e-6\n",
    "    gamma = 0.9"
   ]
  },
  {
   "cell_type": "markdown",
   "metadata": {},
   "source": [
    "## Model"
   ]
  },
  {
   "cell_type": "code",
   "execution_count": null,
   "metadata": {},
   "outputs": [],
   "source": [
    "data_i = Input(shape=(config.n_channels, config.grid_size_w, config.grid_size_h))\n",
    "conv_1 = Conv2D(16, (2, 2), activation=\"relu\", data_format=\"channels_first\")(data_i)\n",
    "conv_2 = Conv2D(32, (2, 2), activation=\"relu\", data_format=\"channels_first\")(conv_1)\n",
    "pool_1 = MaxPooling2D(data_format=\"channels_first\")(conv_2)\n",
    "drop_1 = Dropout(0.25)(pool_1)\n",
    "flat_1 = Flatten()(drop_1)\n",
    "feed_1 = Dense(64, activation=\"relu\")(flat_1)\n",
    "drop_2 = Dropout(0.25)(feed_1)\n",
    "feed_2 = Dense(config.n_actions, activation=\"linear\")(drop_2)\n",
    "data_o = feed_2\n",
    "\n",
    "model = Model(inputs=data_i, outputs=data_o)\n",
    "\n",
    "model.compile(optimizer=\"adam\", loss=\"mse\")\n",
    "\n",
    "model.summary()"
   ]
  },
  {
   "cell_type": "markdown",
   "metadata": {},
   "source": [
    "## Q-Learning"
   ]
  },
  {
   "cell_type": "code",
   "execution_count": null,
   "metadata": {},
   "outputs": [],
   "source": [
    "from Motion import Motion\n",
    "\n",
    "def tuple_to_batch(known_data):\n",
    "    batch = []\n",
    "    for i,agent_pos in enumerate(known_data[2]):\n",
    "        batch.append(np.concatenate((known_data[0],known_data[1],known_data[2][i:i+1])))\n",
    "    batch = np.array(batch)\n",
    "    return batch\n",
    "\n",
    "def valid_move_mask(batch):\n",
    "    mask = np.ones(shape=(config.n_agents, config.n_actions))\n",
    "    indices = np.array(np.nonzero(batch[:, config.n_channels - 1, :, :])).T\n",
    "    for idx in indices:\n",
    "        agent, row, col = idx\n",
    "        for action in range(config.n_actions):\n",
    "            d_pos = Motion(action).value\n",
    "            row += d_pos[0]\n",
    "            col += d_pos[1]\n",
    "            if row == -1 or row == config.grid_size_h or col == -1 or col == config.grid_size_w:\n",
    "                mask[agent, action] = 0\n",
    "    return mask"
   ]
  },
  {
   "cell_type": "code",
   "execution_count": null,
   "metadata": {},
   "outputs": [],
   "source": [
    "def run(model, env, random_moves = True, do_train = True):\n",
    "    \n",
    "    for idx, trash_source in enumerate(env.debug_data_export()[4]): \n",
    "        print(\"Trash Source {} has its mean at {}\".format(idx, trash_source.mean))\n",
    "\n",
    "    # init statistics data structures\n",
    "    all_reward_history = []\n",
    "    avg_reward_history = []\n",
    "    all_action_history = np.zeros((config.number_print, 5))\n",
    "    all_agents_heatmap = Heatmap(keep_track_of_steps=1000)\n",
    "    per_agent_heatmaps = [Heatmap(keep_track_of_steps=1000) for i in range(config.n_agents)]\n",
    "    for k in range(config.n_agents):\n",
    "        env.add_agent(coord=(k, 0), capacity=100000)\n",
    "        all_reward_history.append([])\n",
    "        avg_reward_history.append([])\n",
    "    \n",
    "    X = tuple_to_batch(env.export_known_data())\n",
    "    Q_vals = model.predict(X)\n",
    "    for step in range(config.n_steps):\n",
    "        \n",
    "        # get actions\n",
    "        mask = valid_move_mask(X)\n",
    "        if random_moves and np.random.random() < max(config.epsilon, 0.01):\n",
    "            Q_rand = np.random.random(config.n_agents * config.n_actions).reshape((config.n_agents, config.n_actions))\n",
    "            actions = np.apply_along_axis(np.argmax, 1, Q_rand * mask).tolist()\n",
    "        else:\n",
    "            actions = np.apply_along_axis(np.argmax, 1, Q_vals * mask).tolist()\n",
    "        config.epsilon *= config.epsilon_decay\n",
    "            \n",
    "        # take actions\n",
    "        h_trash, h_agents, p_agents, r_agents = env.move_agents(actions)\n",
    "        X_new = tuple_to_batch([h_trash, h_agents, p_agents])\n",
    "        \n",
    "        # update statistics data structures\n",
    "        all_agents_heatmap.add_map(h_agents[-1])\n",
    "        all_action_history[step % config.number_print, :] = 0\n",
    "        all_action_history[step % config.number_print, actions[0]] = 1\n",
    "        for i in range(config.n_agents):\n",
    "            all_reward_history[i].append(r_agents[i])\n",
    "            per_agent_heatmaps[i].add_map(p_agents[i])\n",
    "\n",
    "        if step % config.number_print == 0:\n",
    "            \n",
    "            # mean reward per agent (list)\n",
    "            means = list(np.mean(all_reward_history[-config.number_print:], axis=1) / config.number_print)\n",
    "            print(\"steps {} - {}\".format(step - config.number_print, step))\n",
    "            print(\"gamma = {}\".format(max(config.epsilon, 0.01)))\n",
    "            for i_agent in range(len(means)):\n",
    "                print(\"avg reward for agent\", i_agent, \":\", means[i_agent])\n",
    "            \n",
    "            # plot moving reward averages per agent\n",
    "            for i_agent in range(config.n_agents):\n",
    "                avg_reward_history[i_agent].append(means[i_agent])\n",
    "                plt.plot(range(0, step+1, config.number_print), avg_reward_history[i_agent])\n",
    "            plt.show()\n",
    "            \n",
    "            # Plot rewards for every single time step\n",
    "            #for i_agent in range(config.n_agents):\n",
    "            #    plt.scatter(all_time_reward_steps_history, all_time_reward_avg_history)\n",
    "            #plt.show()\n",
    "            \n",
    "            # heatmap\n",
    "            all_agents_heatmap.show_heatmap()\n",
    "            for heatmap in per_agent_heatmaps:\n",
    "                heatmap.show_heatmap()\n",
    "        \n",
    "        Q_vals_new = model.predict(X_new)\n",
    "        \n",
    "        if do_train:\n",
    "            Q_vals[range(config.n_agents), actions] = r_agents + config.gamma * np.max(Q_vals_new, axis=1)\n",
    "            model.fit(X, Q_vals, epochs=1, verbose=0)\n",
    "\n",
    "        Q_vals = Q_vals_new\n",
    "        X = X_new"
   ]
  },
  {
   "cell_type": "markdown",
   "metadata": {},
   "source": [
    "### Run the model in some environment"
   ]
  },
  {
   "cell_type": "code",
   "execution_count": null,
   "metadata": {},
   "outputs": [],
   "source": [
    "for i in range(config.n_episodes):\n",
    "    env = Environment(dim=(config.grid_size_h, config.grid_size_w),\n",
    "                      reward_eat_trash=10, \n",
    "                      reward_invalid_move=0,\n",
    "                      reward_nothing_happend=0, \n",
    "                      trash_appearence_prob=0.1,\n",
    "                      number_trash_sources=0, \n",
    "                      saved_timesteps=config.time_steps)\n",
    "    env.trash_sources.append(config.trash_source_1)# at [2,3]\n",
    "    env.trash_sources.append(config.trash_source_2)# at [1,6]\n",
    "\n",
    "    \n",
    "    run(model,env)"
   ]
  },
  {
   "cell_type": "markdown",
   "metadata": {},
   "source": [
    "#### Now reset the model, train it on a different environment and use the pretrained model to learn the environment on top again. Will it learn faster?"
   ]
  },
  {
   "cell_type": "code",
   "execution_count": null,
   "metadata": {},
   "outputs": [],
   "source": [
    "###########################################################################################\n",
    "## Reset the model\n",
    "\n",
    "data_i = Input(shape=(config.n_channels, config.grid_size_w, config.grid_size_h))\n",
    "conv_1 = Conv2D(16, (2, 2), activation=\"relu\", data_format=\"channels_first\")(data_i)\n",
    "conv_2 = Conv2D(32, (2, 2), activation=\"relu\", data_format=\"channels_first\")(conv_1)\n",
    "pool_1 = MaxPooling2D(data_format=\"channels_first\")(conv_2)\n",
    "drop_1 = Dropout(0.25)(pool_1)\n",
    "flat_1 = Flatten()(drop_1)\n",
    "feed_1 = Dense(64, activation=\"relu\")(flat_1)\n",
    "drop_2 = Dropout(0.25)(feed_1)\n",
    "feed_2 = Dense(config.n_actions, activation=\"linear\")(drop_2)\n",
    "data_o = feed_2\n",
    "\n",
    "model = Model(inputs=data_i, outputs=data_o)\n",
    "\n",
    "model.compile(optimizer=\"adam\", loss=\"mse\")\n",
    "\n",
    "model.summary()\n",
    "\n",
    "\n",
    "############################################################################################\n",
    "## Set up a second environment\n",
    "env2 = Environment(dim = (config.grid_size_h,config.grid_size_w),reward_eat_trash=10, \n",
    "                        reward_invalid_move=0, reward_nothing_happend=0, \n",
    "                        trash_appearence_prob=0.1, number_trash_sources=0, saved_timesteps=config.time_steps )\n",
    "env2.trash_sources.append(config.trash_source_3)# at [5,1]\n",
    "env2.trash_sources.append(config.trash_source_4)# at [5,5]\n",
    "############################################################################################\n",
    "## Run the model in the second environment\n",
    "run(model, env2)"
   ]
  },
  {
   "cell_type": "code",
   "execution_count": null,
   "metadata": {},
   "outputs": [],
   "source": [
    "###########################################################################################\n",
    "## Run the pretrained model again on the old environment\n",
    "env = Environment(dim = (config.grid_size_h,config.grid_size_w),reward_eat_trash=10, \n",
    "                        reward_invalid_move=0, reward_nothing_happend=0, \n",
    "                        trash_appearence_prob=0.1, number_trash_sources=0, saved_timesteps=config.time_steps )\n",
    "env.trash_sources.append(config.trash_source_1)# at [2,3]\n",
    "env.trash_sources.append(config.trash_source_2)# at [1,6]\n",
    "\n",
    "run(model, env)"
   ]
  },
  {
   "cell_type": "markdown",
   "metadata": {},
   "source": [
    "### We now define a new environment and see what the pretrained network will do on that"
   ]
  },
  {
   "cell_type": "code",
   "execution_count": null,
   "metadata": {},
   "outputs": [],
   "source": [
    "env2 = Environment(dim = (config.grid_size_h,config.grid_size_w),reward_eat_trash=10, \n",
    "                        reward_invalid_move=0, reward_nothing_happend=0, \n",
    "                        trash_appearence_prob=0.1, number_trash_sources=0, saved_timesteps=config.time_steps )\n",
    "env2.trash_sources.append(config.trash_source_3)\n",
    "env2.trash_sources.append(config.trash_source_4)\n",
    "\n",
    "run(model, env2)\n"
   ]
  },
  {
   "cell_type": "code",
   "execution_count": null,
   "metadata": {},
   "outputs": [],
   "source": []
  }
 ],
 "metadata": {
  "kernelspec": {
   "display_name": "Python (Trashbots)",
   "language": "python",
   "name": "trashbots"
  },
  "language_info": {
   "codemirror_mode": {
    "name": "ipython",
    "version": 3
   },
   "file_extension": ".py",
   "mimetype": "text/x-python",
   "name": "python",
   "nbconvert_exporter": "python",
   "pygments_lexer": "ipython3",
   "version": "3.6.6"
  }
 },
 "nbformat": 4,
 "nbformat_minor": 2
}
