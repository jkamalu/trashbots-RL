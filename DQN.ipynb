{
 "cells": [
  {
   "cell_type": "code",
   "execution_count": null,
   "metadata": {},
   "outputs": [],
   "source": [
    "import numpy as np\n",
    "import tensorflow as tf\n",
    "from keras import Sequential\n",
    "from keras.layers import Input, Dense, Conv2D, MaxPooling2D, Dropout, Flatten"
   ]
  },
  {
   "cell_type": "markdown",
   "metadata": {},
   "source": [
    "## Parameters"
   ]
  },
  {
   "cell_type": "code",
   "execution_count": null,
   "metadata": {},
   "outputs": [],
   "source": [
    "# General\n",
    "\n",
    "n_agents = 2\n",
    "\n",
    "# Model\n",
    "\n",
    "time_steps = 3\n",
    "grid_size_w = 20\n",
    "grid_size_h = 20\n",
    "n_actions = 5\n",
    "\n",
    "n_channels = time_steps + time_steps + 1\n",
    "\n",
    "# Q-Learning\n",
    "\n",
    "n_episodes = 10\n",
    "n_steps = 100\n",
    "epsilon = 0.75\n",
    "epsilon_decay = 0.999\n",
    "gamma = 0.9"
   ]
  },
  {
   "cell_type": "markdown",
   "metadata": {},
   "source": [
    "## Model"
   ]
  },
  {
   "cell_type": "code",
   "execution_count": null,
   "metadata": {},
   "outputs": [],
   "source": [
    "model = Sequential()\n",
    "model.add(Conv2D(16, (4, 4), activation=\"relu\", input_shape=(grid_size_w, grid_size_h, n_channels)))\n",
    "model.add(Conv2D(32, (2, 2), activation=\"relu\"))\n",
    "model.add(MaxPooling2D())\n",
    "model.add(Dropout(0.25))\n",
    "model.add(Flatten())\n",
    "model.add(Dense(64, activation=\"relu\"))\n",
    "model.add(Dropout(0.25))\n",
    "model.add(Dense(n_actions, activation=\"linear\"))\n",
    "model.compile(optimizer=\"adam\", loss=\"mse\")\n",
    "model.summary()"
   ]
  },
  {
   "cell_type": "markdown",
   "metadata": {},
   "source": [
    "## Q-Learning"
   ]
  },
  {
   "cell_type": "code",
   "execution_count": null,
   "metadata": {},
   "outputs": [],
   "source": [
    "X = np.random.rand(n_agents, grid_size_w, grid_size_h, n_channels)\n",
    "\n",
    "# todo: initialize environment\n",
    "\n",
    "for i in range(n_episodes):\n",
    "    if i % 10 == 0:\n",
    "        print(\"Episode {} of {}\".format(i + 1, n_episodes))\n",
    "    epsilon *= epsilon_decay\n",
    "    r_sum = 0\n",
    "    step = 0\n",
    "    while step < n_steps:\n",
    "        if np.random.random() < epsilon:\n",
    "            actions = np.random.randint(0, n_actions)\n",
    "        else:\n",
    "            # todo: get current known state as X\n",
    "            actions = np.argmax(model.predict(X), axis=1)\n",
    "        # todo: do action, get r and new state as X_new\n",
    "        \n",
    "        # after all agents move\n",
    "        rewards = np.floor(np.random.rand(n_agents) * 10)\n",
    "        X_new = np.random.rand(n_agents, grid_size_w, grid_size_h, n_channels)\n",
    "        \n",
    "        target = model.predict(X)\n",
    "        target[:, actions] = rewards + gamma * np.max(model.predict(X_new), axis=1)\n",
    "        \n",
    "        model.fit(X, target, epochs=1, verbose=0)\n",
    "        step += 1"
   ]
  },
  {
   "cell_type": "code",
   "execution_count": null,
   "metadata": {},
   "outputs": [],
   "source": []
  }
 ],
 "metadata": {
  "kernelspec": {
   "display_name": ".env",
   "language": "python",
   "name": ".env"
  },
  "language_info": {
   "codemirror_mode": {
    "name": "ipython",
    "version": 3
   },
   "file_extension": ".py",
   "mimetype": "text/x-python",
   "name": "python",
   "nbconvert_exporter": "python",
   "pygments_lexer": "ipython3",
   "version": "3.6.6"
  }
 },
 "nbformat": 4,
 "nbformat_minor": 2
}
