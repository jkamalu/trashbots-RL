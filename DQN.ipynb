{
 "cells": [
  {
   "cell_type": "code",
   "execution_count": null,
   "metadata": {},
   "outputs": [],
   "source": [
    "import numpy as np\n",
    "import tensorflow as tf\n",
    "from keras import Sequential\n",
    "from keras.layers import Input, Dense, Conv2D, MaxPooling2D, Dropout, Flatten\n",
    "import copy"
   ]
  },
  {
   "cell_type": "markdown",
   "metadata": {},
   "source": [
    "## Parameters"
   ]
  },
  {
   "cell_type": "code",
   "execution_count": null,
   "metadata": {},
   "outputs": [],
   "source": [
    "# General\n",
    "\n",
    "n_agents = 2\n",
    "\n",
    "# Model\n",
    "\n",
    "time_steps = 3\n",
    "grid_size_w = 20\n",
    "grid_size_h = 20\n",
    "n_actions = 5\n",
    "\n",
    "n_channels = time_steps + time_steps + 1\n",
    "\n",
    "# Q-Learning\n",
    "\n",
    "n_episodes = 10\n",
    "n_steps = 100\n",
    "epsilon = 0.75\n",
    "epsilon_decay = 0.999\n",
    "gamma = 0.9\n",
    "\n",
    "# Policy Gradient\n",
    "\n",
    "n_runs = 5"
   ]
  },
  {
   "cell_type": "markdown",
   "metadata": {},
   "source": [
    "## Model"
   ]
  },
  {
   "cell_type": "code",
   "execution_count": null,
   "metadata": {},
   "outputs": [],
   "source": [
    "model = Sequential()\n",
    "model.add(Conv2D(16, (4, 4), activation=\"relu\", input_shape=(grid_size_w, grid_size_h, n_channels)))\n",
    "model.add(Conv2D(32, (2, 2), activation=\"relu\"))\n",
    "model.add(MaxPooling2D())\n",
    "model.add(Dropout(0.25))\n",
    "model.add(Flatten())\n",
    "model.add(Dense(64, activation=\"relu\"))\n",
    "model.add(Dropout(0.25))\n",
    "model.add(Dense(n_actions, activation=\"linear\"))\n",
    "model.compile(optimizer=\"adam\", loss=\"mse\")\n",
    "model.summary()"
   ]
  },
  {
   "cell_type": "markdown",
   "metadata": {},
   "source": [
    "## Q-Learning"
   ]
  },
  {
   "cell_type": "code",
   "execution_count": null,
   "metadata": {},
   "outputs": [],
   "source": [
    "X = np.random.rand(n_agents, grid_size_w, grid_size_h, n_channels)\n",
    "\n",
    "# todo: initialize environment\n",
    "\n",
    "for i in range(n_episodes):\n",
    "    if i % 10 == 0:\n",
    "        print(\"Episode {} of {}\".format(i + 1, n_episodes))\n",
    "    epsilon *= epsilon_decay\n",
    "    r_sum = 0\n",
    "    step = 0\n",
    "    while step < n_steps:\n",
    "        if np.random.random() < epsilon:\n",
    "            actions = np.random.randint(0, n_actions)\n",
    "        else:\n",
    "            # todo: get current known state as X\n",
    "            actions = np.argmax(model.predict(X), axis=1)\n",
    "        # todo: do action, get r and new state as X_new\n",
    "        \n",
    "        # after all agents move\n",
    "        rewards = np.floor(np.random.rand(n_agents) * 10)\n",
    "        X_new = np.random.rand(n_agents, grid_size_w, grid_size_h, n_channels)\n",
    "        \n",
    "        target = model.predict(X)\n",
    "        target[:, actions] = rewards + gamma * np.max(model.predict(X_new), axis=1)\n",
    "        \n",
    "        model.fit(X, target, epochs=1, verbose=0)\n",
    "        step += 1"
   ]
  },
  {
   "cell_type": "markdown",
   "metadata": {},
   "source": [
    "## Policy Gradient\n",
    "### !!Some variables may have the same name as in the DQN segment, but be of a different shape!!"
   ]
  },
  {
   "cell_type": "code",
   "execution_count": null,
   "metadata": {},
   "outputs": [],
   "source": [
    "import keras.backend as K\n",
    "\n",
    "def policy_loss(yPred,reward_sums):\n",
    "    return -K.dot(K.log(yPred+1),reward_sums)"
   ]
  },
  {
   "cell_type": "code",
   "execution_count": null,
   "metadata": {},
   "outputs": [],
   "source": [
    "model = Sequential()\n",
    "model.add(Conv2D(16, (4, 4), activation=\"relu\", input_shape=(grid_size_w, grid_size_h, n_channels)))\n",
    "model.add(Conv2D(32, (2, 2), activation=\"relu\"))\n",
    "model.add(MaxPooling2D())\n",
    "model.add(Dropout(0.25))\n",
    "model.add(Flatten())\n",
    "model.add(Dense(64, activation=\"relu\"))\n",
    "model.add(Dropout(0.25))\n",
    "model.add(Dense(n_actions, activation=\"softmax\"))\n",
    "model.compile(optimizer=\"adam\", loss=policy_loss)\n",
    "model.summary()"
   ]
  },
  {
   "cell_type": "code",
   "execution_count": null,
   "metadata": {},
   "outputs": [],
   "source": [
    "\n",
    "######NEEDS FIXING\n",
    "\n",
    "X_runs = np.random.rand(n_runs, n_steps, n_agents, grid_size_w, grid_size_h, n_channels)\n",
    "# todo: initialize environment\n",
    "# todo: check if net is predicting roughly uniformly between actions? (else fix)\n",
    "\n",
    "for i in range(n_episodes):\n",
    "    if i % 10 == 0:\n",
    "        print(\"Episode {} of {}\".format(i + 1, n_episodes))\n",
    "    epsilon *= epsilon_decay\n",
    "    R = np.zeros((n_runs, n_steps, n_agents, n_actions))\n",
    "    actions = []\n",
    "    for run in range(n_runs):\n",
    "        for step in range(n_steps):\n",
    "            for agent in range(n_agents):\n",
    "                # todo: get current known state as X\n",
    "                X = np.array([np.random.rand(grid_size_w, grid_size_h, n_channels)])\n",
    "                X_runs[run,step,agent] = copy.copy(X)\n",
    "                \n",
    "                action_prob = model.predict(X)[0]\n",
    "                action = np.random.choice(range(n_actions),1,p=action_prob)[0]\n",
    "                actions.append(action)\n",
    "                # todo: do action, get r and new state as X_new\n",
    "\n",
    "                # after agent moves\n",
    "                reward = np.random.rand()\n",
    "                R[run,step,agent,action] = reward\n",
    "                \n",
    "                #update previous rewards in R matrix\n",
    "                for i,prev in enumerate(range(step).__reversed__()): R[run,prev,agent,action] += reward*gamma**i\n",
    "        \n",
    "    #epochs may be changed\n",
    "    X_fit = X_runs.reshape((n_runs*n_steps*n_agents,grid_size_w,grid_size_h,n_channels))\n",
    "    R_fit = R.reshape((n_runs*n_steps*n_agents,n_actions))\n",
    "    model.fit(X_fit, R_fit, epochs=1, verbose=0)"
   ]
  }
 ],
 "metadata": {
  "kernelspec": {
   "display_name": "Python 3",
   "language": "python",
   "name": "python3"
  },
  "language_info": {
   "codemirror_mode": {
    "name": "ipython",
    "version": 3
   },
   "file_extension": ".py",
   "mimetype": "text/x-python",
   "name": "python",
   "nbconvert_exporter": "python",
   "pygments_lexer": "ipython3",
   "version": "3.6.8"
  }
 },
 "nbformat": 4,
 "nbformat_minor": 2
}
