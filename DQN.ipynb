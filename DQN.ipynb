{
 "cells": [
  {
   "cell_type": "code",
   "execution_count": 3,
   "metadata": {},
   "outputs": [
    {
     "ename": "ModuleNotFoundError",
     "evalue": "No module named 'aenum'",
     "output_type": "error",
     "traceback": [
      "\u001b[0;31m---------------------------------------------------------------------------\u001b[0m",
      "\u001b[0;31mModuleNotFoundError\u001b[0m                       Traceback (most recent call last)",
      "\u001b[0;32m<ipython-input-3-186493fa6214>\u001b[0m in \u001b[0;36m<module>\u001b[0;34m\u001b[0m\n\u001b[1;32m      5\u001b[0m \u001b[0;31m# import copy\u001b[0m\u001b[0;34m\u001b[0m\u001b[0;34m\u001b[0m\u001b[0;34m\u001b[0m\u001b[0m\n\u001b[1;32m      6\u001b[0m \u001b[0;34m\u001b[0m\u001b[0m\n\u001b[0;32m----> 7\u001b[0;31m \u001b[0;32mimport\u001b[0m \u001b[0mEnvironment\u001b[0m \u001b[0;32mas\u001b[0m \u001b[0mE\u001b[0m\u001b[0;34m\u001b[0m\u001b[0;34m\u001b[0m\u001b[0m\n\u001b[0m",
      "\u001b[0;32m~/trashbots-RL/Environment.py\u001b[0m in \u001b[0;36m<module>\u001b[0;34m\u001b[0m\n\u001b[1;32m      2\u001b[0m \u001b[0;32mimport\u001b[0m \u001b[0mrandom\u001b[0m\u001b[0;34m\u001b[0m\u001b[0;34m\u001b[0m\u001b[0m\n\u001b[1;32m      3\u001b[0m \u001b[0;34m\u001b[0m\u001b[0m\n\u001b[0;32m----> 4\u001b[0;31m \u001b[0;32mimport\u001b[0m \u001b[0mMotion\u001b[0m\u001b[0;34m\u001b[0m\u001b[0;34m\u001b[0m\u001b[0m\n\u001b[0m\u001b[1;32m      5\u001b[0m \u001b[0;32mimport\u001b[0m \u001b[0mAgent\u001b[0m\u001b[0;34m\u001b[0m\u001b[0;34m\u001b[0m\u001b[0m\n\u001b[1;32m      6\u001b[0m \u001b[0;32mimport\u001b[0m \u001b[0mGaussianTrashSource\u001b[0m\u001b[0;34m\u001b[0m\u001b[0;34m\u001b[0m\u001b[0m\n",
      "\u001b[0;32m~/trashbots-RL/Motion.py\u001b[0m in \u001b[0;36m<module>\u001b[0;34m\u001b[0m\n\u001b[0;32m----> 1\u001b[0;31m \u001b[0;32mfrom\u001b[0m \u001b[0maenum\u001b[0m \u001b[0;32mimport\u001b[0m \u001b[0mMultiValueEnum\u001b[0m\u001b[0;34m\u001b[0m\u001b[0;34m\u001b[0m\u001b[0m\n\u001b[0m\u001b[1;32m      2\u001b[0m \u001b[0;34m\u001b[0m\u001b[0m\n\u001b[1;32m      3\u001b[0m \u001b[0;34m\u001b[0m\u001b[0m\n\u001b[1;32m      4\u001b[0m \u001b[0;32mclass\u001b[0m \u001b[0mMotion\u001b[0m\u001b[0;34m(\u001b[0m\u001b[0mMultiValueEnum\u001b[0m\u001b[0;34m)\u001b[0m\u001b[0;34m:\u001b[0m\u001b[0;34m\u001b[0m\u001b[0;34m\u001b[0m\u001b[0m\n\u001b[1;32m      5\u001b[0m \u001b[0;34m\u001b[0m\u001b[0m\n",
      "\u001b[0;31mModuleNotFoundError\u001b[0m: No module named 'aenum'"
     ]
    }
   ],
   "source": [
    "import numpy as np\n",
    "import keras.backend as K\n",
    "from keras import Sequential\n",
    "from keras.layers import Input, Dense, Conv2D, MaxPooling2D, Dropout, Flatten\n",
    "import copy\n",
    "\n",
    "# import Environment as E"
   ]
  },
  {
   "cell_type": "markdown",
   "metadata": {},
   "source": [
    "## Parameters"
   ]
  },
  {
   "cell_type": "code",
   "execution_count": 9,
   "metadata": {},
   "outputs": [],
   "source": [
    "# General\n",
    "\n",
    "n_agents = 1\n",
    "\n",
    "# Model\n",
    "\n",
    "time_steps = 3\n",
    "grid_size_w = 20\n",
    "grid_size_h = 20\n",
    "n_actions = 5\n",
    "\n",
    "n_channels = time_steps + time_steps + 1\n",
    "\n",
    "# Q-Learning\n",
    "\n",
    "n_episodes = 10\n",
    "n_steps = 100\n",
    "epsilon = 0.75\n",
    "epsilon_decay = 0.999\n",
    "gamma = 0.9\n",
    "\n",
    "# Policy Gradient\n",
    "\n",
    "n_runs = 5"
   ]
  },
  {
   "cell_type": "markdown",
   "metadata": {},
   "source": [
    "## Model"
   ]
  },
  {
   "cell_type": "code",
   "execution_count": 5,
   "metadata": {},
   "outputs": [
    {
     "name": "stdout",
     "output_type": "stream",
     "text": [
      "_________________________________________________________________\n",
      "Layer (type)                 Output Shape              Param #   \n",
      "=================================================================\n",
      "conv2d_1 (Conv2D)            (None, 17, 17, 16)        1808      \n",
      "_________________________________________________________________\n",
      "conv2d_2 (Conv2D)            (None, 16, 16, 32)        2080      \n",
      "_________________________________________________________________\n",
      "max_pooling2d_1 (MaxPooling2 (None, 8, 8, 32)          0         \n",
      "_________________________________________________________________\n",
      "dropout_1 (Dropout)          (None, 8, 8, 32)          0         \n",
      "_________________________________________________________________\n",
      "flatten_1 (Flatten)          (None, 2048)              0         \n",
      "_________________________________________________________________\n",
      "dense_1 (Dense)              (None, 64)                131136    \n",
      "_________________________________________________________________\n",
      "dropout_2 (Dropout)          (None, 64)                0         \n",
      "_________________________________________________________________\n",
      "dense_2 (Dense)              (None, 5)                 325       \n",
      "=================================================================\n",
      "Total params: 135,349\n",
      "Trainable params: 135,349\n",
      "Non-trainable params: 0\n",
      "_________________________________________________________________\n"
     ]
    }
   ],
   "source": [
    "model = Sequential()\n",
    "model.add(Conv2D(16, (4, 4), activation=\"relu\", input_shape=(grid_size_w, grid_size_h, n_channels)))\n",
    "model.add(Conv2D(32, (2, 2), activation=\"relu\"))\n",
    "model.add(MaxPooling2D())\n",
    "model.add(Dropout(0.25))\n",
    "model.add(Flatten())\n",
    "model.add(Dense(64, activation=\"relu\"))\n",
    "model.add(Dropout(0.25))\n",
    "model.add(Dense(n_actions, activation=\"linear\"))\n",
    "model.compile(optimizer=\"adam\", loss=\"mse\")\n",
    "model.summary()"
   ]
  },
  {
   "cell_type": "markdown",
   "metadata": {},
   "source": [
    "## Q-Learning"
   ]
  },
  {
   "cell_type": "code",
   "execution_count": 5,
   "metadata": {},
   "outputs": [],
   "source": [
    "def tuple_to_batch(known_data):\n",
    "    batch = []\n",
    "    for i,agent_pos in enumerate(known_data[2]):\n",
    "        batch.append(np.concatenate(known_data[0],known_data[1],agent_pos[i:i+1]))\n",
    "    batch = np.array(batch)\n",
    "    return batch"
   ]
  },
  {
   "cell_type": "code",
   "execution_count": null,
   "metadata": {},
   "outputs": [],
   "source": [
    "for i in range(n_episodes):\n",
    "    env = E.Environment((20,20))\n",
    "    for i in range(n_agents):\n",
    "        env.add_agent(coord=(i,0),capacity=100000)\n",
    "    \n",
    "    X = env.export_known_data()\n",
    "    X = tuple_to_batch(X)\n",
    "    Q_vals = model.predict(X)\n",
    "    if i % 10 == 0:\n",
    "        print(\"Episode {} of {}\".format(i + 1, n_episodes))\n",
    "    epsilon *= epsilon_decay\n",
    "    r_sum = 0\n",
    "    step = 0\n",
    "    \n",
    "    for step in range(n_steps):\n",
    "        if np.random.random() < epsilon:\n",
    "            actions = np.random.randint(0, high = n_actions, size=n_agents).tolist()\n",
    "        else:\n",
    "            actions = [np.argmax(q_array) for q_array in Q_vals]\n",
    "        \n",
    "        X_reward = env.move_agents(actions) #new known state and rewards\n",
    "        \n",
    "        # after all agents move\n",
    "        X_new = tuple_to_batch(X_reward[:3])\n",
    "        rewards = X_reward[3]\n",
    "        Q_vals_new = model.predict(X_new)\n",
    "        \n",
    "        Q_vals[:, actions] = rewards + gamma * np.max(Q_vals_new, axis=1)\n",
    "        model.fit(X, target, epochs=1, verbose=0)\n",
    "        \n",
    "        Q_vals = Q_vals_new\n",
    "        X = X_new"
   ]
  },
  {
   "cell_type": "markdown",
   "metadata": {},
   "source": [
    "## Policy Gradient\n",
    "### !!Some variables may have the same name as in the DQN segment, but be of a different shape!!"
   ]
  },
  {
   "cell_type": "code",
   "execution_count": 2,
   "metadata": {},
   "outputs": [],
   "source": [
    "def policy_loss(yPred,reward_sums):\n",
    "    return -K.dot(K.log(yPred + 1), reward_sums)"
   ]
  },
  {
   "cell_type": "code",
   "execution_count": null,
   "metadata": {},
   "outputs": [],
   "source": [
    "model_PG = Sequential()\n",
    "model_PG.add(Conv2D(16, (4, 4), activation=\"relu\", input_shape=(grid_size_w, grid_size_h, n_channels)))\n",
    "model_PG.add(Conv2D(32, (2, 2), activation=\"relu\"))\n",
    "model_PG.add(MaxPooling2D())\n",
    "model_PG.add(Dropout(0.25))\n",
    "model_PG.add(Flatten())\n",
    "model_PG.add(Dense(64, activation=\"relu\"))\n",
    "model_PG.add(Dropout(0.25))\n",
    "model_PG.add(Dense(n_actions, activation=\"softmax\"))\n",
    "model_PG.compile(optimizer=\"adam\", loss=policy_loss)\n",
    "model_PG.summary()"
   ]
  },
  {
   "cell_type": "code",
   "execution_count": null,
   "metadata": {},
   "outputs": [],
   "source": [
    "######NEEDS FIXING\n",
    "\n",
    "X_runs = np.random.rand(n_runs, n_steps, n_agents, grid_size_w, grid_size_h, n_channels)\n",
    "# todo: initialize environment\n",
    "# todo: check if net is predicting roughly uniformly between actions? (else fix)\n",
    "\n",
    "for i in range(n_episodes):\n",
    "    if i % 10 == 0:\n",
    "        print(\"Episode {} of {}\".format(i + 1, n_episodes))\n",
    "    epsilon *= epsilon_decay\n",
    "    R = np.zeros((n_runs, n_steps, n_agents, n_actions))\n",
    "    actions = []\n",
    "    for run in range(n_runs):\n",
    "        for step in range(n_steps):\n",
    "            for agent in range(n_agents):\n",
    "                # todo: get current known state as X\n",
    "                X = np.array([np.random.rand(grid_size_w, grid_size_h, n_channels)])\n",
    "                X_runs[run,step,agent] = copy.copy(X)\n",
    "                \n",
    "                action_prob = model_PG.predict(X)[0]\n",
    "                action = np.random.choice(range(n_actions), 1, p=action_prob)[0]\n",
    "                actions.append(action)\n",
    "                # todo: do action, get r and new state as X_new\n",
    "\n",
    "                # after agent moves\n",
    "                reward = np.random.rand()\n",
    "                R[run, step, agent, action] = reward\n",
    "                \n",
    "                #update previous rewards in R matrix\n",
    "                for i,prev in enumerate(range(step).__reversed__()): \n",
    "                    R[run, prev, agent, action] += reward * gamma ** i\n",
    "        \n",
    "    #epochs may be changed\n",
    "    X_fit = X_runs.reshape((n_runs * n_steps * n_agents, grid_size_w, grid_size_h, n_channels))\n",
    "    R_fit = R.reshape((n_runs * n_steps * n_agents, n_actions))\n",
    "    model_PG.fit(X_fit, R_fit, epochs=1, verbose=0)"
   ]
  }
 ],
 "metadata": {
  "kernelspec": {
   "display_name": "Python 3",
   "language": "python",
   "name": "python3"
  },
  "language_info": {
   "codemirror_mode": {
    "name": "ipython",
    "version": 3
   },
   "file_extension": ".py",
   "mimetype": "text/x-python",
   "name": "python",
   "nbconvert_exporter": "python",
   "pygments_lexer": "ipython3",
   "version": "3.6.8"
  }
 },
 "nbformat": 4,
 "nbformat_minor": 2
}
